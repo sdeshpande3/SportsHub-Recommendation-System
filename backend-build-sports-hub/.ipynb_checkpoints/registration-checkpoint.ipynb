{
 "cells": [
  {
   "cell_type": "code",
   "execution_count": 58,
   "metadata": {},
   "outputs": [],
   "source": [
    "import json\n",
    "import requests\n",
    "import datetime\n",
    "import time\n",
    "import os\n",
    "import psycopg2\n",
    "import pandas as pd\n",
    "from urllib.request import urlopen\n",
    "import json\n",
    "import csv\n",
    "from pprint import pprint\n",
    "from psycopg2.extensions import ISOLATION_LEVEL_AUTOCOMMIT \n",
    "from datetime import datetime"
   ]
  },
  {
   "cell_type": "code",
   "execution_count": 59,
   "metadata": {},
   "outputs": [],
   "source": [
    "from elasticsearch import Elasticsearch, helpers \n",
    "\n",
    "es = Elasticsearch()"
   ]
  },
  {
   "cell_type": "code",
   "execution_count": 60,
   "metadata": {},
   "outputs": [],
   "source": [
    "def set_data(input_file, index_name = \"divvy_station_logs\", doc_type_name=\"log\"):\n",
    "    for line in input_file:\n",
    "        \n",
    "        yield {\n",
    "            \"_index\": index_name,\n",
    "            \"_type\": doc_type_name,\n",
    "            \"_source\": line\n",
    "            \n",
    "        }"
   ]
  },
  {
   "cell_type": "code",
   "execution_count": 61,
   "metadata": {},
   "outputs": [],
   "source": [
    "def load(es, input_file, **kwargs):\n",
    "    success, _ = helpers.bulk(es, set_data(input_file, **kwargs))"
   ]
  },
  {
   "cell_type": "code",
   "execution_count": 62,
   "metadata": {},
   "outputs": [],
   "source": [
    "# Get divvy statations status\n",
    "# Status is returned as a json reply\n",
    "\n",
    "# response = urlopen('https://feeds.divvybikes.com/stations/stations.json')\n",
    "\n",
    "response_stations_info = urlopen('https://gbfs.divvybikes.com/gbfs/en/station_information.json')\n",
    "\n",
    "response = urlopen('https://gbfs.divvybikes.com/gbfs/en/station_status.json')\n",
    "\n",
    "# Extract the body of the reply\n",
    "response_body = response.read()\n",
    "response_stations_info = response_stations_info.read()\n",
    "\n",
    "# Decode the format in json format\n",
    "stations_json = json.loads(response_body.decode(\"utf-8\"))\n",
    "stations_info_json = json.loads(response_stations_info.decode(\"utf-8\"))"
   ]
  },
  {
   "cell_type": "code",
   "execution_count": 1,
   "metadata": {},
   "outputs": [],
   "source": [
    "# pprint(stations_json)1"
   ]
  },
  {
   "cell_type": "code",
   "execution_count": 2,
   "metadata": {},
   "outputs": [],
   "source": [
    "# pprint(stations_info_json)"
   ]
  },
  {
   "cell_type": "code",
   "execution_count": 65,
   "metadata": {},
   "outputs": [],
   "source": [
    "db_connection = psycopg2.connect(host='127.0.0.1',dbname=\"postgres\", user=\"postgres\" , password=\"root\")"
   ]
  },
  {
   "cell_type": "code",
   "execution_count": 66,
   "metadata": {},
   "outputs": [],
   "source": [
    "db_connection.set_isolation_level(ISOLATION_LEVEL_AUTOCOMMIT) \n",
    "\n",
    "cursor = db_connection.cursor()"
   ]
  },
  {
   "cell_type": "code",
   "execution_count": 67,
   "metadata": {},
   "outputs": [],
   "source": [
    "db_connection = psycopg2.connect(host='127.0.0.1',dbname=\"chicago_divvy_stations_status\", user=\"postgres\" , password=\"root\")\n",
    "\n",
    "cursor = db_connection.cursor()"
   ]
  },
  {
   "cell_type": "code",
   "execution_count": 68,
   "metadata": {},
   "outputs": [],
   "source": [
    "# Only once you need to create the postgis extension.\n",
    "# Comment the following line if you already created the postgis extension\n",
    "# Add it manually in Postgres ,if there is issue with this query\n",
    "\n",
    "#cursor.execute(\"CREATE EXTENSION postgis;\")"
   ]
  },
  {
   "cell_type": "code",
   "execution_count": 69,
   "metadata": {},
   "outputs": [],
   "source": [
    "db_connection.commit()"
   ]
  },
  {
   "cell_type": "code",
   "execution_count": 70,
   "metadata": {},
   "outputs": [],
   "source": [
    "cursor.execute(\"DROP TABLE IF EXISTS divvy_stations_realtime_status\")\n",
    "db_connection.commit()\n",
    "cursor.execute(\"DROP TABLE IF EXISTS register\")\n",
    "db_connection.commit()\n",
    "cursor.execute(\"DROP TABLE IF EXISTS reviews\")\n",
    "db_connection.commit()\n",
    "cursor.execute(\"DROP TABLE IF EXISTS apidetails\")\n",
    "db_connection.commit()"
   ]
  },
  {
   "cell_type": "code",
   "execution_count": 72,
   "metadata": {},
   "outputs": [],
   "source": [
    "cursor.execute(\"\"\"CREATE TABLE register(\n",
    "                firstName TEXT,\n",
    "                lastName TEXT,\n",
    "                address TEXT,\n",
    "                zipcode INTEGER,\n",
    "                userName TEXT,\n",
    "                password TEXT,\n",
    "                sportsInterested TEXT,\n",
    "                Where_IS GEOGRAPHY);\"\"\")\n",
    "db_connection.commit()"
   ]
  },
  {
   "cell_type": "code",
   "execution_count": 73,
   "metadata": {},
   "outputs": [],
   "source": [
    "cursor.execute(\"\"\"CREATE TABLE reviews(\n",
    "                userName TEXT,\n",
    "                eventName TEXT,\n",
    "                reviews TEXT,\n",
    "                ratings INTEGER,\n",
    "                Where_IS GEOGRAPHY);\"\"\")\n",
    "db_connection.commit()"
   ]
  },
  {
   "cell_type": "code",
   "execution_count": 75,
   "metadata": {},
   "outputs": [],
   "source": [
    "db_connection.commit()"
   ]
  },
  {
   "cell_type": "code",
   "execution_count": null,
   "metadata": {},
   "outputs": [],
   "source": [
    "cursor.execute(\"\"\"CREATE TABLE apidetails(\n",
    "                eventname TEXT,\n",
    "                date TEXT,\n",
    "                venue TEXT,\n",
    "                city INTEGER,\n",
    "                category TEXT,\n",
    "                zipcode INTEGER,\n",
    "                Where_IS GEOGRAPHY);\"\"\")\n",
    "db_connection.commit()"
   ]
  },
  {
   "cell_type": "code",
   "execution_count": 20,
   "metadata": {},
   "outputs": [],
   "source": [
    "db_connection.close()"
   ]
  }
 ],
 "metadata": {
  "kernelspec": {
   "display_name": "Python 3",
   "language": "python",
   "name": "python3"
  },
  "language_info": {
   "codemirror_mode": {
    "name": "ipython",
    "version": 3
   },
   "file_extension": ".py",
   "mimetype": "text/x-python",
   "name": "python",
   "nbconvert_exporter": "python",
   "pygments_lexer": "ipython3",
   "version": "3.6.7"
  }
 },
 "nbformat": 4,
 "nbformat_minor": 2
}
