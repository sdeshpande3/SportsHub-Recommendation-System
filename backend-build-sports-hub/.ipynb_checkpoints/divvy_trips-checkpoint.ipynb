{
 "cells": [
  {
   "cell_type": "code",
   "execution_count": null,
   "metadata": {},
   "outputs": [],
   "source": [
    "import pandas as pd\n",
    "import datetime\n",
    "import time\n",
    "import os\n",
    "import psycopg2\n",
    "import csv\n",
    "from io import StringIO\n",
    "from pprint import pprint\n",
    "from psycopg2.extensions import ISOLATION_LEVEL_AUTOCOMMIT "
   ]
  },
  {
   "cell_type": "code",
   "execution_count": 2,
   "metadata": {},
   "outputs": [],
   "source": [
    "db_connection = psycopg2.connect(host='127.0.0.1',dbname=\"postgres\", user=\"postgres\" , password=\"root\")\n",
    "\n",
    "db_connection.set_isolation_level(ISOLATION_LEVEL_AUTOCOMMIT) \n",
    "\n",
    "cursor = db_connection.cursor()\n",
    "\n",
    "# comment the following line if you already created the database \n",
    "# Only once you need to create the database\n",
    "\n",
    "cursor.execute(\"CREATE DATABASE chicago_divvy_trips;\")"
   ]
  },
  {
   "cell_type": "code",
   "execution_count": 3,
   "metadata": {},
   "outputs": [],
   "source": [
    "db_connection = psycopg2.connect(host='127.0.0.1',dbname=\"chicago_divvy_trips\", user=\"postgres\" , password=\"root\")\n",
    "\n",
    "cursor = db_connection.cursor()"
   ]
  },
  {
   "cell_type": "code",
   "execution_count": 4,
   "metadata": {},
   "outputs": [],
   "source": [
    "db_connection.commit()"
   ]
  },
  {
   "cell_type": "code",
   "execution_count": 5,
   "metadata": {},
   "outputs": [],
   "source": [
    "cursor.execute(\"DROP TABLE IF EXISTS divvy_trips\")\n",
    "cursor.execute(\"DROP TABLE IF EXISTS register\")\n",
    "cursor.execute(\"DROP TABLE IF EXISTS reviews\")\n",
    "cursor.execute(\"DROP TABLE IF EXISTS apiDetails\")"
   ]
  },
  {
   "cell_type": "code",
   "execution_count": 6,
   "metadata": {},
   "outputs": [],
   "source": [
    "db_connection.commit()"
   ]
  },
  {
   "cell_type": "code",
   "execution_count": 7,
   "metadata": {},
   "outputs": [],
   "source": [
    "cursor.execute(\"\"\"CREATE TABLE divvy_trips(\n",
    "                \n",
    "                trip_id INTEGER,\n",
    "                start_time timestamp,\n",
    "                end_time timestamp,\n",
    "                bikeid INTEGER\n",
    "                \n",
    "               );\"\"\")"
   ]
  },
  {
   "cell_type": "code",
   "execution_count": null,
   "metadata": {},
   "outputs": [],
   "source": [
    "cursor.execute(\"\"\"CREATE TABLE register(\n",
    "                firstName TEXT,\n",
    "                lastName TEXT,\n",
    "                address TEXT,\n",
    "                zipcode INTEGER,\n",
    "                userName TEXT,\n",
    "                password TEXT,\n",
    "                sportsInterested TEXT,\n",
    "                Where_IS GEOGRAPHY);\"\"\")"
   ]
  },
  {
   "cell_type": "code",
   "execution_count": null,
   "metadata": {},
   "outputs": [],
   "source": [
    "cursor.execute(\"\"\"CREATE TABLE reviews(\n",
    "                userName TEXT,\n",
    "                eventName TEXT,\n",
    "                reviews TEXT,\n",
    "                ratings INTEGER,\n",
    "                Where_IS GEOGRAPHY);\"\"\")"
   ]
  },
  {
   "cell_type": "code",
   "execution_count": null,
   "metadata": {},
   "outputs": [],
   "source": [
    "cursor.execute(\"\"\"CREATE TABLE apiDetails(\n",
    "                eventName TEXT,\n",
    "                date DATE,\n",
    "                venue TEXT,\n",
    "                city TEXT,\n",
    "                category TEXT,\n",
    "                zipcode INTEGER,\n",
    "                Where_IS GEOGRAPHY);\"\"\")"
   ]
  },
  {
   "cell_type": "code",
   "execution_count": null,
   "metadata": {},
   "outputs": [],
   "source": [
    "cursor.execute(\"\"\"CREATE TABLE divvy_stations_realtime_status(\n",
    "                altitude FLOAT,\n",
    "                availableBikes INTEGER,\n",
    "                availableDocks INTEGER,\n",
    "                city TEXT,\n",
    "                id INTEGER,\n",
    "                is_renting BOOLEAN,\n",
    "                kioskType TEXT,\n",
    "                landMark TEXT,\n",
    "                lastCommunicationTime timestamp,\n",
    "                latitude FLOAT,\n",
    "                location TEXT,\n",
    "                longitude FLOAT,\n",
    "                postalCode INTEGER,\n",
    "                stAddress1 TEXT,\n",
    "                stAddress2 TEXT,\n",
    "                stationName TEXT,\n",
    "                status TEXT,\n",
    "                statusKey INTEGER,\n",
    "                statusValue TEXT,\n",
    "                testStation BOOLEAN,\n",
    "                totalDocks INTEGER,\n",
    "                Where_IS GEOGRAPHY);\"\"\")"
   ]
  },
  {
   "cell_type": "code",
   "execution_count": 8,
   "metadata": {},
   "outputs": [],
   "source": [
    "db_connection.commit()"
   ]
  },
  {
   "cell_type": "code",
   "execution_count": 9,
   "metadata": {},
   "outputs": [],
   "source": [
    "df = pd.read_csv(\"Divvy_Trips_2018_Q4.csv\") "
   ]
  },
  {
   "cell_type": "code",
   "execution_count": 10,
   "metadata": {},
   "outputs": [
    {
     "data": {
      "text/html": [
       "<div>\n",
       "<style scoped>\n",
       "    .dataframe tbody tr th:only-of-type {\n",
       "        vertical-align: middle;\n",
       "    }\n",
       "\n",
       "    .dataframe tbody tr th {\n",
       "        vertical-align: top;\n",
       "    }\n",
       "\n",
       "    .dataframe thead th {\n",
       "        text-align: right;\n",
       "    }\n",
       "</style>\n",
       "<table border=\"1\" class=\"dataframe\">\n",
       "  <thead>\n",
       "    <tr style=\"text-align: right;\">\n",
       "      <th></th>\n",
       "      <th>trip_id</th>\n",
       "      <th>start_time</th>\n",
       "      <th>end_time</th>\n",
       "      <th>bikeid</th>\n",
       "      <th>tripduration</th>\n",
       "      <th>from_station_id</th>\n",
       "      <th>from_station_name</th>\n",
       "      <th>to_station_id</th>\n",
       "      <th>to_station_name</th>\n",
       "      <th>usertype</th>\n",
       "      <th>gender</th>\n",
       "      <th>birthyear</th>\n",
       "    </tr>\n",
       "  </thead>\n",
       "  <tbody>\n",
       "    <tr>\n",
       "      <th>0</th>\n",
       "      <td>20983530</td>\n",
       "      <td>2018-10-01 00:01:17</td>\n",
       "      <td>2018-10-01 00:29:35</td>\n",
       "      <td>4551</td>\n",
       "      <td>1,698.0</td>\n",
       "      <td>85</td>\n",
       "      <td>Michigan Ave &amp; Oak St</td>\n",
       "      <td>166</td>\n",
       "      <td>Ashland Ave &amp; Wrightwood Ave</td>\n",
       "      <td>Subscriber</td>\n",
       "      <td>Male</td>\n",
       "      <td>1992.0</td>\n",
       "    </tr>\n",
       "    <tr>\n",
       "      <th>1</th>\n",
       "      <td>20983531</td>\n",
       "      <td>2018-10-01 00:03:59</td>\n",
       "      <td>2018-10-01 00:10:55</td>\n",
       "      <td>847</td>\n",
       "      <td>416.0</td>\n",
       "      <td>13</td>\n",
       "      <td>Wilton Ave &amp; Diversey Pkwy</td>\n",
       "      <td>144</td>\n",
       "      <td>Larrabee St &amp; Webster Ave</td>\n",
       "      <td>Subscriber</td>\n",
       "      <td>Female</td>\n",
       "      <td>1982.0</td>\n",
       "    </tr>\n",
       "    <tr>\n",
       "      <th>2</th>\n",
       "      <td>20983532</td>\n",
       "      <td>2018-10-01 00:05:14</td>\n",
       "      <td>2018-10-01 00:14:08</td>\n",
       "      <td>6188</td>\n",
       "      <td>534.0</td>\n",
       "      <td>59</td>\n",
       "      <td>Wabash Ave &amp; Roosevelt Rd</td>\n",
       "      <td>197</td>\n",
       "      <td>Michigan Ave &amp; Madison St</td>\n",
       "      <td>Subscriber</td>\n",
       "      <td>Male</td>\n",
       "      <td>1986.0</td>\n",
       "    </tr>\n",
       "    <tr>\n",
       "      <th>3</th>\n",
       "      <td>20983533</td>\n",
       "      <td>2018-10-01 00:05:48</td>\n",
       "      <td>2018-10-01 00:18:46</td>\n",
       "      <td>6372</td>\n",
       "      <td>778.0</td>\n",
       "      <td>328</td>\n",
       "      <td>Ellis Ave &amp; 58th St</td>\n",
       "      <td>419</td>\n",
       "      <td>Lake Park Ave &amp; 53rd St</td>\n",
       "      <td>Subscriber</td>\n",
       "      <td>Female</td>\n",
       "      <td>1960.0</td>\n",
       "    </tr>\n",
       "    <tr>\n",
       "      <th>4</th>\n",
       "      <td>20983534</td>\n",
       "      <td>2018-10-01 00:07:29</td>\n",
       "      <td>2018-10-01 00:25:51</td>\n",
       "      <td>1927</td>\n",
       "      <td>1,102.0</td>\n",
       "      <td>93</td>\n",
       "      <td>Sheffield Ave &amp; Willow St</td>\n",
       "      <td>159</td>\n",
       "      <td>Claremont Ave &amp; Hirsch St</td>\n",
       "      <td>Subscriber</td>\n",
       "      <td>Female</td>\n",
       "      <td>1993.0</td>\n",
       "    </tr>\n",
       "  </tbody>\n",
       "</table>\n",
       "</div>"
      ],
      "text/plain": [
       "    trip_id           start_time             end_time  bikeid tripduration  \\\n",
       "0  20983530  2018-10-01 00:01:17  2018-10-01 00:29:35    4551      1,698.0   \n",
       "1  20983531  2018-10-01 00:03:59  2018-10-01 00:10:55     847        416.0   \n",
       "2  20983532  2018-10-01 00:05:14  2018-10-01 00:14:08    6188        534.0   \n",
       "3  20983533  2018-10-01 00:05:48  2018-10-01 00:18:46    6372        778.0   \n",
       "4  20983534  2018-10-01 00:07:29  2018-10-01 00:25:51    1927      1,102.0   \n",
       "\n",
       "   from_station_id           from_station_name  to_station_id  \\\n",
       "0               85       Michigan Ave & Oak St            166   \n",
       "1               13  Wilton Ave & Diversey Pkwy            144   \n",
       "2               59   Wabash Ave & Roosevelt Rd            197   \n",
       "3              328         Ellis Ave & 58th St            419   \n",
       "4               93   Sheffield Ave & Willow St            159   \n",
       "\n",
       "                to_station_name    usertype  gender  birthyear  \n",
       "0  Ashland Ave & Wrightwood Ave  Subscriber    Male     1992.0  \n",
       "1     Larrabee St & Webster Ave  Subscriber  Female     1982.0  \n",
       "2     Michigan Ave & Madison St  Subscriber    Male     1986.0  \n",
       "3       Lake Park Ave & 53rd St  Subscriber  Female     1960.0  \n",
       "4     Claremont Ave & Hirsch St  Subscriber  Female     1993.0  "
      ]
     },
     "execution_count": 10,
     "metadata": {},
     "output_type": "execute_result"
    }
   ],
   "source": [
    "#  sanity test content of dataframe\n",
    "df.head()"
   ]
  },
  {
   "cell_type": "code",
   "execution_count": 11,
   "metadata": {},
   "outputs": [],
   "source": [
    "df_trips_sliced = df[['trip_id', 'start_time', 'end_time','bikeid']]"
   ]
  },
  {
   "cell_type": "code",
   "execution_count": 12,
   "metadata": {},
   "outputs": [
    {
     "data": {
      "text/html": [
       "<div>\n",
       "<style scoped>\n",
       "    .dataframe tbody tr th:only-of-type {\n",
       "        vertical-align: middle;\n",
       "    }\n",
       "\n",
       "    .dataframe tbody tr th {\n",
       "        vertical-align: top;\n",
       "    }\n",
       "\n",
       "    .dataframe thead th {\n",
       "        text-align: right;\n",
       "    }\n",
       "</style>\n",
       "<table border=\"1\" class=\"dataframe\">\n",
       "  <thead>\n",
       "    <tr style=\"text-align: right;\">\n",
       "      <th></th>\n",
       "      <th>trip_id</th>\n",
       "      <th>start_time</th>\n",
       "      <th>end_time</th>\n",
       "      <th>bikeid</th>\n",
       "    </tr>\n",
       "  </thead>\n",
       "  <tbody>\n",
       "    <tr>\n",
       "      <th>0</th>\n",
       "      <td>20983530</td>\n",
       "      <td>2018-10-01 00:01:17</td>\n",
       "      <td>2018-10-01 00:29:35</td>\n",
       "      <td>4551</td>\n",
       "    </tr>\n",
       "    <tr>\n",
       "      <th>1</th>\n",
       "      <td>20983531</td>\n",
       "      <td>2018-10-01 00:03:59</td>\n",
       "      <td>2018-10-01 00:10:55</td>\n",
       "      <td>847</td>\n",
       "    </tr>\n",
       "    <tr>\n",
       "      <th>2</th>\n",
       "      <td>20983532</td>\n",
       "      <td>2018-10-01 00:05:14</td>\n",
       "      <td>2018-10-01 00:14:08</td>\n",
       "      <td>6188</td>\n",
       "    </tr>\n",
       "    <tr>\n",
       "      <th>3</th>\n",
       "      <td>20983533</td>\n",
       "      <td>2018-10-01 00:05:48</td>\n",
       "      <td>2018-10-01 00:18:46</td>\n",
       "      <td>6372</td>\n",
       "    </tr>\n",
       "    <tr>\n",
       "      <th>4</th>\n",
       "      <td>20983534</td>\n",
       "      <td>2018-10-01 00:07:29</td>\n",
       "      <td>2018-10-01 00:25:51</td>\n",
       "      <td>1927</td>\n",
       "    </tr>\n",
       "  </tbody>\n",
       "</table>\n",
       "</div>"
      ],
      "text/plain": [
       "    trip_id           start_time             end_time  bikeid\n",
       "0  20983530  2018-10-01 00:01:17  2018-10-01 00:29:35    4551\n",
       "1  20983531  2018-10-01 00:03:59  2018-10-01 00:10:55     847\n",
       "2  20983532  2018-10-01 00:05:14  2018-10-01 00:14:08    6188\n",
       "3  20983533  2018-10-01 00:05:48  2018-10-01 00:18:46    6372\n",
       "4  20983534  2018-10-01 00:07:29  2018-10-01 00:25:51    1927"
      ]
     },
     "execution_count": 12,
     "metadata": {},
     "output_type": "execute_result"
    }
   ],
   "source": [
    "df_trips_sliced.head()"
   ]
  },
  {
   "cell_type": "code",
   "execution_count": 13,
   "metadata": {},
   "outputs": [
    {
     "data": {
      "text/plain": [
       "35249841"
      ]
     },
     "execution_count": 13,
     "metadata": {},
     "output_type": "execute_result"
    }
   ],
   "source": [
    "# Dump the dataframe content into a sring object\n",
    "data_string = StringIO()\n",
    "data_string.write(df_trips_sliced.to_csv(index=None, header=None))  \n",
    " "
   ]
  },
  {
   "cell_type": "code",
   "execution_count": 14,
   "metadata": {},
   "outputs": [],
   "source": [
    "# Copy the data string obect to the database\n",
    "data_string.seek(0)\n",
    "with db_connection.cursor() as cursor:\n",
    "    cursor.copy_from(data_string, \"divvy_trips\", columns = df_trips_sliced.columns, sep=',')\n",
    "    db_connection.commit()\n",
    "    "
   ]
  },
  {
   "cell_type": "code",
   "execution_count": 15,
   "metadata": {},
   "outputs": [],
   "source": [
    "db_connection.close()"
   ]
  },
  {
   "cell_type": "code",
   "execution_count": null,
   "metadata": {},
   "outputs": [],
   "source": []
  }
 ],
 "metadata": {
  "kernelspec": {
   "display_name": "Python 3",
   "language": "python",
   "name": "python3"
  },
  "language_info": {
   "codemirror_mode": {
    "name": "ipython",
    "version": 3
   },
   "file_extension": ".py",
   "mimetype": "text/x-python",
   "name": "python",
   "nbconvert_exporter": "python",
   "pygments_lexer": "ipython3",
   "version": "3.6.7"
  }
 },
 "nbformat": 4,
 "nbformat_minor": 2
}
